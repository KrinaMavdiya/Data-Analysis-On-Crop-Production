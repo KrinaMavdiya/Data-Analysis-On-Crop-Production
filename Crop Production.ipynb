{
 "cells": [
  {
   "cell_type": "markdown",
   "id": "b9aa1955",
   "metadata": {},
   "source": [
    "# CROP PRODUCTION IN INDIA "
   ]
  },
  {
   "cell_type": "markdown",
   "id": "6f4fe2cb",
   "metadata": {},
   "source": [
    "  "
   ]
  },
  {
   "cell_type": "markdown",
   "id": "78aa9cdc",
   "metadata": {},
   "source": [
    "The data used here is from 2000 - 2015\n",
    "\n",
    "The dataset is downloaded from Kaggle.\n",
    "\n",
    "The format of the file is CSV.\n",
    "\n",
    "The Data set contains: States ,Districts, Crop year , Season, Crops area and Production details. "
   ]
  },
  {
   "cell_type": "markdown",
   "id": "6515f061",
   "metadata": {},
   "source": [
    "Import libraries"
   ]
  },
  {
   "cell_type": "code",
   "execution_count": 2,
   "id": "6c07fce3",
   "metadata": {},
   "outputs": [],
   "source": [
    "import pandas as pd\n",
    "import matplotlib.pyplot as plt\n",
    "import seaborn as sns\n",
    "location = r'crop_production.csv'\n",
    "data = pd.read_csv(location)"
   ]
  },
  {
   "cell_type": "code",
   "execution_count": 2,
   "id": "a80be67f",
   "metadata": {
    "scrolled": true
   },
   "outputs": [
    {
     "data": {
      "text/html": [
       "<div>\n",
       "<style scoped>\n",
       "    .dataframe tbody tr th:only-of-type {\n",
       "        vertical-align: middle;\n",
       "    }\n",
       "\n",
       "    .dataframe tbody tr th {\n",
       "        vertical-align: top;\n",
       "    }\n",
       "\n",
       "    .dataframe thead th {\n",
       "        text-align: right;\n",
       "    }\n",
       "</style>\n",
       "<table border=\"1\" class=\"dataframe\">\n",
       "  <thead>\n",
       "    <tr style=\"text-align: right;\">\n",
       "      <th></th>\n",
       "      <th>State_Name</th>\n",
       "      <th>District_Name</th>\n",
       "      <th>Crop_Year</th>\n",
       "      <th>Season</th>\n",
       "      <th>Crop</th>\n",
       "      <th>Area</th>\n",
       "      <th>Production</th>\n",
       "    </tr>\n",
       "  </thead>\n",
       "  <tbody>\n",
       "    <tr>\n",
       "      <th>0</th>\n",
       "      <td>Andaman and Nicobar Islands</td>\n",
       "      <td>NICOBARS</td>\n",
       "      <td>2000</td>\n",
       "      <td>Kharif</td>\n",
       "      <td>Arecanut</td>\n",
       "      <td>1254.0</td>\n",
       "      <td>2000.0</td>\n",
       "    </tr>\n",
       "    <tr>\n",
       "      <th>1</th>\n",
       "      <td>Andaman and Nicobar Islands</td>\n",
       "      <td>NICOBARS</td>\n",
       "      <td>2000</td>\n",
       "      <td>Kharif</td>\n",
       "      <td>Other Kharif pulses</td>\n",
       "      <td>2.0</td>\n",
       "      <td>1.0</td>\n",
       "    </tr>\n",
       "    <tr>\n",
       "      <th>2</th>\n",
       "      <td>Andaman and Nicobar Islands</td>\n",
       "      <td>NICOBARS</td>\n",
       "      <td>2000</td>\n",
       "      <td>Kharif</td>\n",
       "      <td>Rice</td>\n",
       "      <td>102.0</td>\n",
       "      <td>321.0</td>\n",
       "    </tr>\n",
       "    <tr>\n",
       "      <th>3</th>\n",
       "      <td>Andaman and Nicobar Islands</td>\n",
       "      <td>NICOBARS</td>\n",
       "      <td>2000</td>\n",
       "      <td>Whole Year</td>\n",
       "      <td>Banana</td>\n",
       "      <td>176.0</td>\n",
       "      <td>641.0</td>\n",
       "    </tr>\n",
       "    <tr>\n",
       "      <th>4</th>\n",
       "      <td>Andaman and Nicobar Islands</td>\n",
       "      <td>NICOBARS</td>\n",
       "      <td>2000</td>\n",
       "      <td>Whole Year</td>\n",
       "      <td>Cashewnut</td>\n",
       "      <td>720.0</td>\n",
       "      <td>165.0</td>\n",
       "    </tr>\n",
       "  </tbody>\n",
       "</table>\n",
       "</div>"
      ],
      "text/plain": [
       "                    State_Name District_Name  Crop_Year       Season  \\\n",
       "0  Andaman and Nicobar Islands      NICOBARS       2000  Kharif        \n",
       "1  Andaman and Nicobar Islands      NICOBARS       2000  Kharif        \n",
       "2  Andaman and Nicobar Islands      NICOBARS       2000  Kharif        \n",
       "3  Andaman and Nicobar Islands      NICOBARS       2000  Whole Year    \n",
       "4  Andaman and Nicobar Islands      NICOBARS       2000  Whole Year    \n",
       "\n",
       "                  Crop    Area  Production  \n",
       "0             Arecanut  1254.0      2000.0  \n",
       "1  Other Kharif pulses     2.0         1.0  \n",
       "2                 Rice   102.0       321.0  \n",
       "3               Banana   176.0       641.0  \n",
       "4            Cashewnut   720.0       165.0  "
      ]
     },
     "execution_count": 2,
     "metadata": {},
     "output_type": "execute_result"
    }
   ],
   "source": [
    "data.head()"
   ]
  },
  {
   "cell_type": "code",
   "execution_count": 4,
   "id": "2606ad80",
   "metadata": {
    "scrolled": true
   },
   "outputs": [
    {
     "data": {
      "text/plain": [
       "Index(['State_Name', 'District_Name', 'Crop_Year', 'Season', 'Crop', 'Area',\n",
       "       'Production'],\n",
       "      dtype='object')"
      ]
     },
     "execution_count": 4,
     "metadata": {},
     "output_type": "execute_result"
    }
   ],
   "source": [
    "data.columns"
   ]
  },
  {
   "cell_type": "code",
   "execution_count": 41,
   "id": "a6cb4698",
   "metadata": {
    "scrolled": false
   },
   "outputs": [
    {
     "name": "stdout",
     "output_type": "stream",
     "text": [
      "<class 'pandas.core.frame.DataFrame'>\n",
      "RangeIndex: 246091 entries, 0 to 246090\n",
      "Data columns (total 7 columns):\n",
      " #   Column         Non-Null Count   Dtype  \n",
      "---  ------         --------------   -----  \n",
      " 0   State_Name     246091 non-null  object \n",
      " 1   District_Name  246091 non-null  object \n",
      " 2   Crop_Year      246091 non-null  int64  \n",
      " 3   Season         246091 non-null  object \n",
      " 4   Crop           246091 non-null  object \n",
      " 5   Area           246091 non-null  float64\n",
      " 6   Production     242361 non-null  float64\n",
      "dtypes: float64(2), int64(1), object(4)\n",
      "memory usage: 13.1+ MB\n"
     ]
    }
   ],
   "source": [
    "data.info()"
   ]
  },
  {
   "cell_type": "code",
   "execution_count": 6,
   "id": "dfd061a9",
   "metadata": {
    "scrolled": false
   },
   "outputs": [
    {
     "data": {
      "text/plain": [
       "State_Name          0\n",
       "District_Name       0\n",
       "Crop_Year           0\n",
       "Season              0\n",
       "Crop                0\n",
       "Area                0\n",
       "Production       3730\n",
       "dtype: int64"
      ]
     },
     "execution_count": 6,
     "metadata": {},
     "output_type": "execute_result"
    }
   ],
   "source": [
    "data.isnull().sum()"
   ]
  },
  {
   "cell_type": "markdown",
   "id": "eca83135",
   "metadata": {},
   "source": [
    "Name of Seasons in the file:"
   ]
  },
  {
   "cell_type": "code",
   "execution_count": 44,
   "id": "84309a3e",
   "metadata": {
    "scrolled": true
   },
   "outputs": [
    {
     "data": {
      "text/plain": [
       "array(['Kharif     ', 'Whole Year ', 'Autumn     ', 'Rabi       ',\n",
       "       'Summer     ', 'Winter     '], dtype=object)"
      ]
     },
     "execution_count": 44,
     "metadata": {},
     "output_type": "execute_result"
    }
   ],
   "source": [
    "data['Season'].unique()"
   ]
  },
  {
   "cell_type": "code",
   "execution_count": 47,
   "id": "643f67ff",
   "metadata": {
    "scrolled": false
   },
   "outputs": [
    {
     "data": {
      "image/png": "[encoded data removed]",
      "text/plain": [
       "<Figure size 432x432 with 1 Axes>"
      ]
     },
     "metadata": {},
     "output_type": "display_data"
    }
   ],
   "source": [
    "plt.figure(figsize = (6,6))\n",
    "season = data['Season'].value_counts()\n",
    "season_lables=data['Season'].unique()\n",
    "color = ('orange', \"blue\" ,'pink', 'yellow','red','green')\n",
    "plt.pie(season,\n",
    "        labels =season_lables,\n",
    "        autopct = '%1.1f%%',\n",
    "        colors = color,\n",
    "        explode = (0.05,0.05,0.05,0.06,0.07,0.08),\n",
    "        shadow = True,\n",
    "        )\n",
    "plt.show()"
   ]
  },
  {
   "cell_type": "markdown",
   "id": "2fc391e4",
   "metadata": {},
   "source": [
    "    Conclusion : From Above graph it is clear that Kharif crops are grown maximum in India. "
   ]
  },
  {
   "cell_type": "markdown",
   "id": "9ad159c1",
   "metadata": {},
   "source": [
    "Name of all crops in the file: "
   ]
  },
  {
   "cell_type": "code",
   "execution_count": 43,
   "id": "a7aeee38",
   "metadata": {
    "scrolled": false
   },
   "outputs": [
    {
     "data": {
      "text/plain": [
       "array(['Arecanut', 'Other Kharif pulses', 'Rice', 'Banana', 'Cashewnut',\n",
       "       'Coconut ', 'Dry ginger', 'Sugarcane', 'Sweet potato', 'Tapioca',\n",
       "       'Black pepper', 'Dry chillies', 'other oilseeds', 'Turmeric',\n",
       "       'Maize', 'Moong(Green Gram)', 'Urad', 'Arhar/Tur', 'Groundnut',\n",
       "       'Sunflower', 'Bajra', 'Castor seed', 'Cotton(lint)', 'Horse-gram',\n",
       "       'Jowar', 'Korra', 'Ragi', 'Tobacco', 'Gram', 'Wheat', 'Masoor',\n",
       "       'Sesamum', 'Linseed', 'Safflower', 'Onion', 'other misc. pulses',\n",
       "       'Samai', 'Small millets', 'Coriander', 'Potato',\n",
       "       'Other  Rabi pulses', 'Soyabean', 'Beans & Mutter(Vegetable)',\n",
       "       'Bhindi', 'Brinjal', 'Citrus Fruit', 'Cucumber', 'Grapes', 'Mango',\n",
       "       'Orange', 'other fibres', 'Other Fresh Fruits', 'Other Vegetables',\n",
       "       'Papaya', 'Pome Fruit', 'Tomato', 'Rapeseed &Mustard', 'Mesta',\n",
       "       'Cowpea(Lobia)', 'Lemon', 'Pome Granet', 'Sapota', 'Cabbage',\n",
       "       'Peas  (vegetable)', 'Niger seed', 'Bottle Gourd', 'Sannhamp',\n",
       "       'Varagu', 'Garlic', 'Ginger', 'Oilseeds total', 'Pulses total',\n",
       "       'Jute', 'Peas & beans (Pulses)', 'Blackgram', 'Paddy', 'Pineapple',\n",
       "       'Barley', 'Khesari', 'Guar seed', 'Moth',\n",
       "       'Other Cereals & Millets', 'Cond-spcs other', 'Turnip', 'Carrot',\n",
       "       'Redish', 'Arcanut (Processed)', 'Atcanut (Raw)',\n",
       "       'Cashewnut Processed', 'Cashewnut Raw', 'Cardamom', 'Rubber',\n",
       "       'Bitter Gourd', 'Drum Stick', 'Jack Fruit', 'Snak Guard',\n",
       "       'Pump Kin', 'Tea', 'Coffee', 'Cauliflower', 'Other Citrus Fruit',\n",
       "       'Water Melon', 'Total foodgrain', 'Kapas', 'Colocosia', 'Lentil',\n",
       "       'Bean', 'Jobster', 'Perilla', 'Rajmash Kholar',\n",
       "       'Ricebean (nagadal)', 'Ash Gourd', 'Beet Root', 'Lab-Lab',\n",
       "       'Ribed Guard', 'Yam', 'Apple', 'Peach', 'Pear', 'Plums', 'Litchi',\n",
       "       'Ber', 'Other Dry Fruit', 'Jute & mesta'], dtype=object)"
      ]
     },
     "execution_count": 43,
     "metadata": {},
     "output_type": "execute_result"
    }
   ],
   "source": [
    "data['Crop'].unique()"
   ]
  },
  {
   "cell_type": "markdown",
   "id": "2cc4c406",
   "metadata": {},
   "source": [
    "# Show Records for State name - \"Gujarat\" : "
   ]
  },
  {
   "cell_type": "code",
   "execution_count": 7,
   "id": "711db773",
   "metadata": {
    "scrolled": false
   },
   "outputs": [
    {
     "data": {
      "text/html": [
       "<div>\n",
       "<style scoped>\n",
       "    .dataframe tbody tr th:only-of-type {\n",
       "        vertical-align: middle;\n",
       "    }\n",
       "\n",
       "    .dataframe tbody tr th {\n",
       "        vertical-align: top;\n",
       "    }\n",
       "\n",
       "    .dataframe thead th {\n",
       "        text-align: right;\n",
       "    }\n",
       "</style>\n",
       "<table border=\"1\" class=\"dataframe\">\n",
       "  <thead>\n",
       "    <tr style=\"text-align: right;\">\n",
       "      <th></th>\n",
       "      <th>State_Name</th>\n",
       "      <th>District_Name</th>\n",
       "      <th>Crop_Year</th>\n",
       "      <th>Season</th>\n",
       "      <th>Crop</th>\n",
       "      <th>Area</th>\n",
       "      <th>Production</th>\n",
       "    </tr>\n",
       "  </thead>\n",
       "  <tbody>\n",
       "    <tr>\n",
       "      <th>57160</th>\n",
       "      <td>Gujarat</td>\n",
       "      <td>AHMADABAD</td>\n",
       "      <td>1997</td>\n",
       "      <td>Kharif</td>\n",
       "      <td>Arhar/Tur</td>\n",
       "      <td>2900.0</td>\n",
       "      <td>2200.0</td>\n",
       "    </tr>\n",
       "    <tr>\n",
       "      <th>57161</th>\n",
       "      <td>Gujarat</td>\n",
       "      <td>AHMADABAD</td>\n",
       "      <td>1997</td>\n",
       "      <td>Kharif</td>\n",
       "      <td>Bajra</td>\n",
       "      <td>41700.0</td>\n",
       "      <td>43700.0</td>\n",
       "    </tr>\n",
       "    <tr>\n",
       "      <th>57162</th>\n",
       "      <td>Gujarat</td>\n",
       "      <td>AHMADABAD</td>\n",
       "      <td>1997</td>\n",
       "      <td>Kharif</td>\n",
       "      <td>Dry chillies</td>\n",
       "      <td>700.0</td>\n",
       "      <td>700.0</td>\n",
       "    </tr>\n",
       "    <tr>\n",
       "      <th>57163</th>\n",
       "      <td>Gujarat</td>\n",
       "      <td>AHMADABAD</td>\n",
       "      <td>1997</td>\n",
       "      <td>Kharif</td>\n",
       "      <td>Groundnut</td>\n",
       "      <td>500.0</td>\n",
       "      <td>600.0</td>\n",
       "    </tr>\n",
       "    <tr>\n",
       "      <th>57164</th>\n",
       "      <td>Gujarat</td>\n",
       "      <td>AHMADABAD</td>\n",
       "      <td>1997</td>\n",
       "      <td>Kharif</td>\n",
       "      <td>Jowar</td>\n",
       "      <td>42500.0</td>\n",
       "      <td>33500.0</td>\n",
       "    </tr>\n",
       "    <tr>\n",
       "      <th>...</th>\n",
       "      <td>...</td>\n",
       "      <td>...</td>\n",
       "      <td>...</td>\n",
       "      <td>...</td>\n",
       "      <td>...</td>\n",
       "      <td>...</td>\n",
       "      <td>...</td>\n",
       "    </tr>\n",
       "    <tr>\n",
       "      <th>65591</th>\n",
       "      <td>Gujarat</td>\n",
       "      <td>VALSAD</td>\n",
       "      <td>2012</td>\n",
       "      <td>Rabi</td>\n",
       "      <td>Gram</td>\n",
       "      <td>2000.0</td>\n",
       "      <td>2000.0</td>\n",
       "    </tr>\n",
       "    <tr>\n",
       "      <th>65592</th>\n",
       "      <td>Gujarat</td>\n",
       "      <td>VALSAD</td>\n",
       "      <td>2012</td>\n",
       "      <td>Rabi</td>\n",
       "      <td>Other  Rabi pulses</td>\n",
       "      <td>3300.0</td>\n",
       "      <td>2600.0</td>\n",
       "    </tr>\n",
       "    <tr>\n",
       "      <th>65593</th>\n",
       "      <td>Gujarat</td>\n",
       "      <td>VALSAD</td>\n",
       "      <td>2012</td>\n",
       "      <td>Summer</td>\n",
       "      <td>Rice</td>\n",
       "      <td>600.0</td>\n",
       "      <td>1700.0</td>\n",
       "    </tr>\n",
       "    <tr>\n",
       "      <th>65594</th>\n",
       "      <td>Gujarat</td>\n",
       "      <td>VALSAD</td>\n",
       "      <td>2012</td>\n",
       "      <td>Whole Year</td>\n",
       "      <td>Dry chillies</td>\n",
       "      <td>100.0</td>\n",
       "      <td>100.0</td>\n",
       "    </tr>\n",
       "    <tr>\n",
       "      <th>65595</th>\n",
       "      <td>Gujarat</td>\n",
       "      <td>VALSAD</td>\n",
       "      <td>2012</td>\n",
       "      <td>Whole Year</td>\n",
       "      <td>Sugarcane</td>\n",
       "      <td>8600.0</td>\n",
       "      <td>65500.0</td>\n",
       "    </tr>\n",
       "  </tbody>\n",
       "</table>\n",
       "<p>8436 rows × 7 columns</p>\n",
       "</div>"
      ],
      "text/plain": [
       "      State_Name District_Name  Crop_Year       Season                Crop  \\\n",
       "57160    Gujarat     AHMADABAD       1997  Kharif                Arhar/Tur   \n",
       "57161    Gujarat     AHMADABAD       1997  Kharif                    Bajra   \n",
       "57162    Gujarat     AHMADABAD       1997  Kharif             Dry chillies   \n",
       "57163    Gujarat     AHMADABAD       1997  Kharif                Groundnut   \n",
       "57164    Gujarat     AHMADABAD       1997  Kharif                    Jowar   \n",
       "...          ...           ...        ...          ...                 ...   \n",
       "65591    Gujarat        VALSAD       2012  Rabi                       Gram   \n",
       "65592    Gujarat        VALSAD       2012  Rabi         Other  Rabi pulses   \n",
       "65593    Gujarat        VALSAD       2012  Summer                     Rice   \n",
       "65594    Gujarat        VALSAD       2012  Whole Year         Dry chillies   \n",
       "65595    Gujarat        VALSAD       2012  Whole Year            Sugarcane   \n",
       "\n",
       "          Area  Production  \n",
       "57160   2900.0      2200.0  \n",
       "57161  41700.0     43700.0  \n",
       "57162    700.0       700.0  \n",
       "57163    500.0       600.0  \n",
       "57164  42500.0     33500.0  \n",
       "...        ...         ...  \n",
       "65591   2000.0      2000.0  \n",
       "65592   3300.0      2600.0  \n",
       "65593    600.0      1700.0  \n",
       "65594    100.0       100.0  \n",
       "65595   8600.0     65500.0  \n",
       "\n",
       "[8436 rows x 7 columns]"
      ]
     },
     "execution_count": 7,
     "metadata": {},
     "output_type": "execute_result"
    }
   ],
   "source": [
    "data[data['State_Name'].isin(['Gujarat'])]"
   ]
  },
  {
   "cell_type": "markdown",
   "id": "a362cbd2",
   "metadata": {},
   "source": [
    "# To Calculate  Area and Production State wise (mean)"
   ]
  },
  {
   "cell_type": "code",
   "execution_count": 40,
   "id": "28f280c0",
   "metadata": {
    "scrolled": true
   },
   "outputs": [
    {
     "name": "stderr",
     "output_type": "stream",
     "text": [
      "<ipython-input-40-9c4d2cbf8aed>:1: FutureWarning: Indexing with multiple keys (implicitly converted to a tuple of keys) will be deprecated, use a list instead.\n",
      "  data.groupby('State_Name')['Area','Production'].mean().sort_values(by = 'Production', ascending = False)\n"
     ]
    },
    {
     "data": {
      "text/html": [
       "<div>\n",
       "<style scoped>\n",
       "    .dataframe tbody tr th:only-of-type {\n",
       "        vertical-align: middle;\n",
       "    }\n",
       "\n",
       "    .dataframe tbody tr th {\n",
       "        vertical-align: top;\n",
       "    }\n",
       "\n",
       "    .dataframe thead th {\n",
       "        text-align: right;\n",
       "    }\n",
       "</style>\n",
       "<table border=\"1\" class=\"dataframe\">\n",
       "  <thead>\n",
       "    <tr style=\"text-align: right;\">\n",
       "      <th></th>\n",
       "      <th>Area</th>\n",
       "      <th>Production</th>\n",
       "    </tr>\n",
       "    <tr>\n",
       "      <th>State_Name</th>\n",
       "      <th></th>\n",
       "      <th></th>\n",
       "    </tr>\n",
       "  </thead>\n",
       "  <tbody>\n",
       "    <tr>\n",
       "      <th>Kerala</th>\n",
       "      <td>7488.400218</td>\n",
       "      <td>2.445167e+07</td>\n",
       "    </tr>\n",
       "    <tr>\n",
       "      <th>Andaman and Nicobar Islands</th>\n",
       "      <td>1664.512660</td>\n",
       "      <td>3.573250e+06</td>\n",
       "    </tr>\n",
       "    <tr>\n",
       "      <th>Goa</th>\n",
       "      <td>5796.540865</td>\n",
       "      <td>2.443265e+06</td>\n",
       "    </tr>\n",
       "    <tr>\n",
       "      <th>Andhra Pradesh</th>\n",
       "      <td>13662.842127</td>\n",
       "      <td>1.812006e+06</td>\n",
       "    </tr>\n",
       "    <tr>\n",
       "      <th>Tamil Nadu</th>\n",
       "      <td>7078.900642</td>\n",
       "      <td>9.103304e+05</td>\n",
       "    </tr>\n",
       "    <tr>\n",
       "      <th>Puducherry</th>\n",
       "      <td>626.417808</td>\n",
       "      <td>4.411978e+05</td>\n",
       "    </tr>\n",
       "    <tr>\n",
       "      <th>Punjab</th>\n",
       "      <td>39938.728648</td>\n",
       "      <td>1.865686e+05</td>\n",
       "    </tr>\n",
       "    <tr>\n",
       "      <th>West Bengal</th>\n",
       "      <td>22407.702889</td>\n",
       "      <td>1.456606e+05</td>\n",
       "    </tr>\n",
       "    <tr>\n",
       "      <th>Assam</th>\n",
       "      <td>4811.235849</td>\n",
       "      <td>1.444229e+05</td>\n",
       "    </tr>\n",
       "    <tr>\n",
       "      <th>Maharashtra</th>\n",
       "      <td>25515.223076</td>\n",
       "      <td>1.011236e+05</td>\n",
       "    </tr>\n",
       "    <tr>\n",
       "      <th>Uttar Pradesh</th>\n",
       "      <td>13019.624992</td>\n",
       "      <td>9.745677e+04</td>\n",
       "    </tr>\n",
       "    <tr>\n",
       "      <th>Haryana</th>\n",
       "      <td>15250.605277</td>\n",
       "      <td>8.398103e+04</td>\n",
       "    </tr>\n",
       "    <tr>\n",
       "      <th>Gujarat</th>\n",
       "      <td>18367.001422</td>\n",
       "      <td>6.267679e+04</td>\n",
       "    </tr>\n",
       "    <tr>\n",
       "      <th>Telangana</th>\n",
       "      <td>14402.659586</td>\n",
       "      <td>5.994418e+04</td>\n",
       "    </tr>\n",
       "    <tr>\n",
       "      <th>Karnataka</th>\n",
       "      <td>9606.577171</td>\n",
       "      <td>4.096161e+04</td>\n",
       "    </tr>\n",
       "    <tr>\n",
       "      <th>Uttarakhand</th>\n",
       "      <td>3838.476103</td>\n",
       "      <td>2.739427e+04</td>\n",
       "    </tr>\n",
       "    <tr>\n",
       "      <th>Rajasthan</th>\n",
       "      <td>21737.646236</td>\n",
       "      <td>2.331512e+04</td>\n",
       "    </tr>\n",
       "    <tr>\n",
       "      <th>Madhya Pradesh</th>\n",
       "      <td>14375.327377</td>\n",
       "      <td>1.985670e+04</td>\n",
       "    </tr>\n",
       "    <tr>\n",
       "      <th>Bihar</th>\n",
       "      <td>6792.270638</td>\n",
       "      <td>1.941738e+04</td>\n",
       "    </tr>\n",
       "    <tr>\n",
       "      <th>Odisha</th>\n",
       "      <td>8142.439484</td>\n",
       "      <td>1.189767e+04</td>\n",
       "    </tr>\n",
       "    <tr>\n",
       "      <th>Chhattisgarh</th>\n",
       "      <td>7754.194042</td>\n",
       "      <td>9.736874e+03</td>\n",
       "    </tr>\n",
       "    <tr>\n",
       "      <th>Tripura</th>\n",
       "      <td>3287.258499</td>\n",
       "      <td>8.868921e+03</td>\n",
       "    </tr>\n",
       "    <tr>\n",
       "      <th>Jharkhand</th>\n",
       "      <td>7417.888017</td>\n",
       "      <td>8.513224e+03</td>\n",
       "    </tr>\n",
       "    <tr>\n",
       "      <th>Jammu and Kashmir</th>\n",
       "      <td>5669.903917</td>\n",
       "      <td>8.144005e+03</td>\n",
       "    </tr>\n",
       "    <tr>\n",
       "      <th>Himachal Pradesh</th>\n",
       "      <td>4011.178027</td>\n",
       "      <td>7.249661e+03</td>\n",
       "    </tr>\n",
       "    <tr>\n",
       "      <th>Dadra and Nagar Haveli</th>\n",
       "      <td>1507.661597</td>\n",
       "      <td>7.026125e+03</td>\n",
       "    </tr>\n",
       "    <tr>\n",
       "      <th>Meghalaya</th>\n",
       "      <td>1407.404255</td>\n",
       "      <td>4.224798e+03</td>\n",
       "    </tr>\n",
       "    <tr>\n",
       "      <th>Manipur</th>\n",
       "      <td>1584.265193</td>\n",
       "      <td>4.131846e+03</td>\n",
       "    </tr>\n",
       "    <tr>\n",
       "      <th>Sikkim</th>\n",
       "      <td>2135.124650</td>\n",
       "      <td>3.411394e+03</td>\n",
       "    </tr>\n",
       "    <tr>\n",
       "      <th>Nagaland</th>\n",
       "      <td>1554.268817</td>\n",
       "      <td>3.269967e+03</td>\n",
       "    </tr>\n",
       "    <tr>\n",
       "      <th>Arunachal Pradesh</th>\n",
       "      <td>1714.197172</td>\n",
       "      <td>2.681302e+03</td>\n",
       "    </tr>\n",
       "    <tr>\n",
       "      <th>Mizoram</th>\n",
       "      <td>1038.385758</td>\n",
       "      <td>1.741656e+03</td>\n",
       "    </tr>\n",
       "    <tr>\n",
       "      <th>Chandigarh</th>\n",
       "      <td>139.133333</td>\n",
       "      <td>7.186124e+02</td>\n",
       "    </tr>\n",
       "  </tbody>\n",
       "</table>\n",
       "</div>"
      ],
      "text/plain": [
       "                                     Area    Production\n",
       "State_Name                                             \n",
       "Kerala                        7488.400218  2.445167e+07\n",
       "Andaman and Nicobar Islands   1664.512660  3.573250e+06\n",
       "Goa                           5796.540865  2.443265e+06\n",
       "Andhra Pradesh               13662.842127  1.812006e+06\n",
       "Tamil Nadu                    7078.900642  9.103304e+05\n",
       "Puducherry                     626.417808  4.411978e+05\n",
       "Punjab                       39938.728648  1.865686e+05\n",
       "West Bengal                  22407.702889  1.456606e+05\n",
       "Assam                         4811.235849  1.444229e+05\n",
       "Maharashtra                  25515.223076  1.011236e+05\n",
       "Uttar Pradesh                13019.624992  9.745677e+04\n",
       "Haryana                      15250.605277  8.398103e+04\n",
       "Gujarat                      18367.001422  6.267679e+04\n",
       "Telangana                    14402.659586  5.994418e+04\n",
       "Karnataka                     9606.577171  4.096161e+04\n",
       "Uttarakhand                   3838.476103  2.739427e+04\n",
       "Rajasthan                    21737.646236  2.331512e+04\n",
       "Madhya Pradesh               14375.327377  1.985670e+04\n",
       "Bihar                         6792.270638  1.941738e+04\n",
       "Odisha                        8142.439484  1.189767e+04\n",
       "Chhattisgarh                  7754.194042  9.736874e+03\n",
       "Tripura                       3287.258499  8.868921e+03\n",
       "Jharkhand                     7417.888017  8.513224e+03\n",
       "Jammu and Kashmir             5669.903917  8.144005e+03\n",
       "Himachal Pradesh              4011.178027  7.249661e+03\n",
       "Dadra and Nagar Haveli        1507.661597  7.026125e+03\n",
       "Meghalaya                     1407.404255  4.224798e+03\n",
       "Manipur                       1584.265193  4.131846e+03\n",
       "Sikkim                        2135.124650  3.411394e+03\n",
       "Nagaland                      1554.268817  3.269967e+03\n",
       "Arunachal Pradesh             1714.197172  2.681302e+03\n",
       "Mizoram                       1038.385758  1.741656e+03\n",
       "Chandigarh                     139.133333  7.186124e+02"
      ]
     },
     "execution_count": 40,
     "metadata": {},
     "output_type": "execute_result"
    }
   ],
   "source": [
    "data.groupby('State_Name')['Area','Production'].mean().sort_values(by = 'Production', ascending = False)"
   ]
  },
  {
   "cell_type": "markdown",
   "id": "9c54b07d",
   "metadata": {},
   "source": [
    "Conclusion: Maximum production takes place in Kerala and minimun production in Chandigarh"
   ]
  },
  {
   "cell_type": "markdown",
   "id": "0ab378b4",
   "metadata": {},
   "source": [
    "#  To find maximum  of the crops grown in each State with District & Year : "
   ]
  },
  {
   "cell_type": "code",
   "execution_count": 25,
   "id": "86d78cf0",
   "metadata": {
    "scrolled": true
   },
   "outputs": [
    {
     "name": "stderr",
     "output_type": "stream",
     "text": [
      "<ipython-input-25-add990fa3d53>:1: FutureWarning: Indexing with multiple keys (implicitly converted to a tuple of keys) will be deprecated, use a list instead.\n",
      "  data.groupby('State_Name')['District_Name','Crop_Year','Crop'].max()\n"
     ]
    },
    {
     "data": {
      "text/html": [
       "<div>\n",
       "<style scoped>\n",
       "    .dataframe tbody tr th:only-of-type {\n",
       "        vertical-align: middle;\n",
       "    }\n",
       "\n",
       "    .dataframe tbody tr th {\n",
       "        vertical-align: top;\n",
       "    }\n",
       "\n",
       "    .dataframe thead th {\n",
       "        text-align: right;\n",
       "    }\n",
       "</style>\n",
       "<table border=\"1\" class=\"dataframe\">\n",
       "  <thead>\n",
       "    <tr style=\"text-align: right;\">\n",
       "      <th></th>\n",
       "      <th>District_Name</th>\n",
       "      <th>Crop_Year</th>\n",
       "      <th>Crop</th>\n",
       "    </tr>\n",
       "    <tr>\n",
       "      <th>State_Name</th>\n",
       "      <th></th>\n",
       "      <th></th>\n",
       "      <th></th>\n",
       "    </tr>\n",
       "  </thead>\n",
       "  <tbody>\n",
       "    <tr>\n",
       "      <th>Andaman and Nicobar Islands</th>\n",
       "      <td>SOUTH ANDAMANS</td>\n",
       "      <td>2010</td>\n",
       "      <td>other oilseeds</td>\n",
       "    </tr>\n",
       "    <tr>\n",
       "      <th>Andhra Pradesh</th>\n",
       "      <td>WEST GODAVARI</td>\n",
       "      <td>2014</td>\n",
       "      <td>other oilseeds</td>\n",
       "    </tr>\n",
       "    <tr>\n",
       "      <th>Arunachal Pradesh</th>\n",
       "      <td>WEST SIANG</td>\n",
       "      <td>2014</td>\n",
       "      <td>Wheat</td>\n",
       "    </tr>\n",
       "    <tr>\n",
       "      <th>Assam</th>\n",
       "      <td>UDALGURI</td>\n",
       "      <td>2014</td>\n",
       "      <td>other misc. pulses</td>\n",
       "    </tr>\n",
       "    <tr>\n",
       "      <th>Bihar</th>\n",
       "      <td>VAISHALI</td>\n",
       "      <td>2014</td>\n",
       "      <td>Wheat</td>\n",
       "    </tr>\n",
       "    <tr>\n",
       "      <th>Chandigarh</th>\n",
       "      <td>CHANDIGARH</td>\n",
       "      <td>2010</td>\n",
       "      <td>Wheat</td>\n",
       "    </tr>\n",
       "    <tr>\n",
       "      <th>Chhattisgarh</th>\n",
       "      <td>SURGUJA</td>\n",
       "      <td>2014</td>\n",
       "      <td>other misc. pulses</td>\n",
       "    </tr>\n",
       "    <tr>\n",
       "      <th>Dadra and Nagar Haveli</th>\n",
       "      <td>DADRA AND NAGAR HAVELI</td>\n",
       "      <td>2014</td>\n",
       "      <td>Wheat</td>\n",
       "    </tr>\n",
       "    <tr>\n",
       "      <th>Goa</th>\n",
       "      <td>SOUTH GOA</td>\n",
       "      <td>2014</td>\n",
       "      <td>Sugarcane</td>\n",
       "    </tr>\n",
       "    <tr>\n",
       "      <th>Gujarat</th>\n",
       "      <td>VALSAD</td>\n",
       "      <td>2012</td>\n",
       "      <td>other oilseeds</td>\n",
       "    </tr>\n",
       "    <tr>\n",
       "      <th>Haryana</th>\n",
       "      <td>YAMUNANAGAR</td>\n",
       "      <td>2012</td>\n",
       "      <td>other oilseeds</td>\n",
       "    </tr>\n",
       "    <tr>\n",
       "      <th>Himachal Pradesh</th>\n",
       "      <td>UNA</td>\n",
       "      <td>2010</td>\n",
       "      <td>Wheat</td>\n",
       "    </tr>\n",
       "    <tr>\n",
       "      <th>Jammu and Kashmir</th>\n",
       "      <td>UDHAMPUR</td>\n",
       "      <td>2014</td>\n",
       "      <td>other oilseeds</td>\n",
       "    </tr>\n",
       "    <tr>\n",
       "      <th>Jharkhand</th>\n",
       "      <td>WEST SINGHBHUM</td>\n",
       "      <td>2010</td>\n",
       "      <td>Wheat</td>\n",
       "    </tr>\n",
       "    <tr>\n",
       "      <th>Karnataka</th>\n",
       "      <td>YADGIR</td>\n",
       "      <td>2014</td>\n",
       "      <td>Wheat</td>\n",
       "    </tr>\n",
       "    <tr>\n",
       "      <th>Kerala</th>\n",
       "      <td>WAYANAD</td>\n",
       "      <td>2014</td>\n",
       "      <td>other oilseeds</td>\n",
       "    </tr>\n",
       "    <tr>\n",
       "      <th>Madhya Pradesh</th>\n",
       "      <td>VIDISHA</td>\n",
       "      <td>2013</td>\n",
       "      <td>other misc. pulses</td>\n",
       "    </tr>\n",
       "    <tr>\n",
       "      <th>Maharashtra</th>\n",
       "      <td>YAVATMAL</td>\n",
       "      <td>2014</td>\n",
       "      <td>other oilseeds</td>\n",
       "    </tr>\n",
       "    <tr>\n",
       "      <th>Manipur</th>\n",
       "      <td>UKHRUL</td>\n",
       "      <td>2007</td>\n",
       "      <td>Turmeric</td>\n",
       "    </tr>\n",
       "    <tr>\n",
       "      <th>Meghalaya</th>\n",
       "      <td>WEST KHASI HILLS</td>\n",
       "      <td>2014</td>\n",
       "      <td>Wheat</td>\n",
       "    </tr>\n",
       "    <tr>\n",
       "      <th>Mizoram</th>\n",
       "      <td>SERCHHIP</td>\n",
       "      <td>2009</td>\n",
       "      <td>other oilseeds</td>\n",
       "    </tr>\n",
       "    <tr>\n",
       "      <th>Nagaland</th>\n",
       "      <td>ZUNHEBOTO</td>\n",
       "      <td>2014</td>\n",
       "      <td>Wheat</td>\n",
       "    </tr>\n",
       "    <tr>\n",
       "      <th>Odisha</th>\n",
       "      <td>SUNDARGARH</td>\n",
       "      <td>2015</td>\n",
       "      <td>Wheat</td>\n",
       "    </tr>\n",
       "    <tr>\n",
       "      <th>Puducherry</th>\n",
       "      <td>YANAM</td>\n",
       "      <td>2014</td>\n",
       "      <td>Urad</td>\n",
       "    </tr>\n",
       "    <tr>\n",
       "      <th>Punjab</th>\n",
       "      <td>TARN TARAN</td>\n",
       "      <td>2014</td>\n",
       "      <td>Wheat</td>\n",
       "    </tr>\n",
       "    <tr>\n",
       "      <th>Rajasthan</th>\n",
       "      <td>UDAIPUR</td>\n",
       "      <td>2010</td>\n",
       "      <td>other oilseeds</td>\n",
       "    </tr>\n",
       "    <tr>\n",
       "      <th>Sikkim</th>\n",
       "      <td>WEST DISTRICT</td>\n",
       "      <td>2015</td>\n",
       "      <td>other oilseeds</td>\n",
       "    </tr>\n",
       "    <tr>\n",
       "      <th>Tamil Nadu</th>\n",
       "      <td>VIRUDHUNAGAR</td>\n",
       "      <td>2013</td>\n",
       "      <td>Yam</td>\n",
       "    </tr>\n",
       "    <tr>\n",
       "      <th>Telangana</th>\n",
       "      <td>WARANGAL</td>\n",
       "      <td>2014</td>\n",
       "      <td>other oilseeds</td>\n",
       "    </tr>\n",
       "    <tr>\n",
       "      <th>Tripura</th>\n",
       "      <td>WEST TRIPURA</td>\n",
       "      <td>2014</td>\n",
       "      <td>other oilseeds</td>\n",
       "    </tr>\n",
       "    <tr>\n",
       "      <th>Uttar Pradesh</th>\n",
       "      <td>VARANASI</td>\n",
       "      <td>2014</td>\n",
       "      <td>Wheat</td>\n",
       "    </tr>\n",
       "    <tr>\n",
       "      <th>Uttarakhand</th>\n",
       "      <td>UTTAR KASHI</td>\n",
       "      <td>2014</td>\n",
       "      <td>other oilseeds</td>\n",
       "    </tr>\n",
       "    <tr>\n",
       "      <th>West Bengal</th>\n",
       "      <td>PURULIA</td>\n",
       "      <td>2014</td>\n",
       "      <td>Wheat</td>\n",
       "    </tr>\n",
       "  </tbody>\n",
       "</table>\n",
       "</div>"
      ],
      "text/plain": [
       "                                      District_Name  Crop_Year  \\\n",
       "State_Name                                                       \n",
       "Andaman and Nicobar Islands          SOUTH ANDAMANS       2010   \n",
       "Andhra Pradesh                        WEST GODAVARI       2014   \n",
       "Arunachal Pradesh                        WEST SIANG       2014   \n",
       "Assam                                      UDALGURI       2014   \n",
       "Bihar                                      VAISHALI       2014   \n",
       "Chandigarh                               CHANDIGARH       2010   \n",
       "Chhattisgarh                                SURGUJA       2014   \n",
       "Dadra and Nagar Haveli       DADRA AND NAGAR HAVELI       2014   \n",
       "Goa                                       SOUTH GOA       2014   \n",
       "Gujarat                                      VALSAD       2012   \n",
       "Haryana                                 YAMUNANAGAR       2012   \n",
       "Himachal Pradesh                                UNA       2010   \n",
       "Jammu and Kashmir                          UDHAMPUR       2014   \n",
       "Jharkhand                            WEST SINGHBHUM       2010   \n",
       "Karnataka                                    YADGIR       2014   \n",
       "Kerala                                      WAYANAD       2014   \n",
       "Madhya Pradesh                              VIDISHA       2013   \n",
       "Maharashtra                                YAVATMAL       2014   \n",
       "Manipur                                      UKHRUL       2007   \n",
       "Meghalaya                          WEST KHASI HILLS       2014   \n",
       "Mizoram                                    SERCHHIP       2009   \n",
       "Nagaland                                  ZUNHEBOTO       2014   \n",
       "Odisha                                   SUNDARGARH       2015   \n",
       "Puducherry                                    YANAM       2014   \n",
       "Punjab                                   TARN TARAN       2014   \n",
       "Rajasthan                                   UDAIPUR       2010   \n",
       "Sikkim                                WEST DISTRICT       2015   \n",
       "Tamil Nadu                             VIRUDHUNAGAR       2013   \n",
       "Telangana                                  WARANGAL       2014   \n",
       "Tripura                                WEST TRIPURA       2014   \n",
       "Uttar Pradesh                              VARANASI       2014   \n",
       "Uttarakhand                             UTTAR KASHI       2014   \n",
       "West Bengal                                 PURULIA       2014   \n",
       "\n",
       "                                           Crop  \n",
       "State_Name                                       \n",
       "Andaman and Nicobar Islands      other oilseeds  \n",
       "Andhra Pradesh                   other oilseeds  \n",
       "Arunachal Pradesh                         Wheat  \n",
       "Assam                        other misc. pulses  \n",
       "Bihar                                     Wheat  \n",
       "Chandigarh                                Wheat  \n",
       "Chhattisgarh                 other misc. pulses  \n",
       "Dadra and Nagar Haveli                    Wheat  \n",
       "Goa                                   Sugarcane  \n",
       "Gujarat                          other oilseeds  \n",
       "Haryana                          other oilseeds  \n",
       "Himachal Pradesh                          Wheat  \n",
       "Jammu and Kashmir                other oilseeds  \n",
       "Jharkhand                                 Wheat  \n",
       "Karnataka                                 Wheat  \n",
       "Kerala                           other oilseeds  \n",
       "Madhya Pradesh               other misc. pulses  \n",
       "Maharashtra                      other oilseeds  \n",
       "Manipur                                Turmeric  \n",
       "Meghalaya                                 Wheat  \n",
       "Mizoram                          other oilseeds  \n",
       "Nagaland                                  Wheat  \n",
       "Odisha                                    Wheat  \n",
       "Puducherry                                 Urad  \n",
       "Punjab                                    Wheat  \n",
       "Rajasthan                        other oilseeds  \n",
       "Sikkim                           other oilseeds  \n",
       "Tamil Nadu                                  Yam  \n",
       "Telangana                        other oilseeds  \n",
       "Tripura                          other oilseeds  \n",
       "Uttar Pradesh                             Wheat  \n",
       "Uttarakhand                      other oilseeds  \n",
       "West Bengal                               Wheat  "
      ]
     },
     "execution_count": 25,
     "metadata": {},
     "output_type": "execute_result"
    }
   ],
   "source": [
    "data.groupby('State_Name')['District_Name','Crop_Year','Crop'].max()"
   ]
  },
  {
   "cell_type": "markdown",
   "id": "fde7d4a5",
   "metadata": {},
   "source": [
    "Above data shows the  crops which are grown maximum in each state with the District and year"
   ]
  },
  {
   "cell_type": "markdown",
   "id": "328351b0",
   "metadata": {},
   "source": [
    "# State Wise analysis : (Gujarat)"
   ]
  },
  {
   "cell_type": "markdown",
   "id": "5f444204",
   "metadata": {},
   "source": [
    "# 1)  Maximum of production in each district:"
   ]
  },
  {
   "cell_type": "code",
   "execution_count": 35,
   "id": "58462163",
   "metadata": {
    "scrolled": false
   },
   "outputs": [
    {
     "name": "stderr",
     "output_type": "stream",
     "text": [
      "<ipython-input-35-77b14d9d7d8a>:2: FutureWarning: Indexing with multiple keys (implicitly converted to a tuple of keys) will be deprecated, use a list instead.\n",
      "  state.groupby('District_Name')['Crop','Production'].max().sort_values(by = 'Production',ascending = False)\n"
     ]
    },
    {
     "data": {
      "text/html": [
       "<div>\n",
       "<style scoped>\n",
       "    .dataframe tbody tr th:only-of-type {\n",
       "        vertical-align: middle;\n",
       "    }\n",
       "\n",
       "    .dataframe tbody tr th {\n",
       "        vertical-align: top;\n",
       "    }\n",
       "\n",
       "    .dataframe thead th {\n",
       "        text-align: right;\n",
       "    }\n",
       "</style>\n",
       "<table border=\"1\" class=\"dataframe\">\n",
       "  <thead>\n",
       "    <tr style=\"text-align: right;\">\n",
       "      <th></th>\n",
       "      <th>Crop</th>\n",
       "      <th>Production</th>\n",
       "    </tr>\n",
       "    <tr>\n",
       "      <th>District_Name</th>\n",
       "      <th></th>\n",
       "      <th></th>\n",
       "    </tr>\n",
       "  </thead>\n",
       "  <tbody>\n",
       "    <tr>\n",
       "      <th>SURAT</th>\n",
       "      <td>other oilseeds</td>\n",
       "      <td>11754000.0</td>\n",
       "    </tr>\n",
       "    <tr>\n",
       "      <th>VALSAD</th>\n",
       "      <td>other oilseeds</td>\n",
       "      <td>2733000.0</td>\n",
       "    </tr>\n",
       "    <tr>\n",
       "      <th>NAVSARI</th>\n",
       "      <td>other oilseeds</td>\n",
       "      <td>2238000.0</td>\n",
       "    </tr>\n",
       "    <tr>\n",
       "      <th>BHARUCH</th>\n",
       "      <td>other oilseeds</td>\n",
       "      <td>2015000.0</td>\n",
       "    </tr>\n",
       "    <tr>\n",
       "      <th>RAJKOT</th>\n",
       "      <td>other oilseeds</td>\n",
       "      <td>1823100.0</td>\n",
       "    </tr>\n",
       "    <tr>\n",
       "      <th>SURENDRANAGAR</th>\n",
       "      <td>other oilseeds</td>\n",
       "      <td>1714900.0</td>\n",
       "    </tr>\n",
       "    <tr>\n",
       "      <th>JUNAGADH</th>\n",
       "      <td>other oilseeds</td>\n",
       "      <td>1525000.0</td>\n",
       "    </tr>\n",
       "    <tr>\n",
       "      <th>BHAVNAGAR</th>\n",
       "      <td>other oilseeds</td>\n",
       "      <td>1469300.0</td>\n",
       "    </tr>\n",
       "    <tr>\n",
       "      <th>TAPI</th>\n",
       "      <td>other oilseeds</td>\n",
       "      <td>1420000.0</td>\n",
       "    </tr>\n",
       "    <tr>\n",
       "      <th>AMRELI</th>\n",
       "      <td>other oilseeds</td>\n",
       "      <td>1142600.0</td>\n",
       "    </tr>\n",
       "    <tr>\n",
       "      <th>JAMNAGAR</th>\n",
       "      <td>other oilseeds</td>\n",
       "      <td>1076500.0</td>\n",
       "    </tr>\n",
       "    <tr>\n",
       "      <th>BANAS KANTHA</th>\n",
       "      <td>other oilseeds</td>\n",
       "      <td>1021700.0</td>\n",
       "    </tr>\n",
       "    <tr>\n",
       "      <th>NARMADA</th>\n",
       "      <td>other oilseeds</td>\n",
       "      <td>899000.0</td>\n",
       "    </tr>\n",
       "    <tr>\n",
       "      <th>VADODARA</th>\n",
       "      <td>Wheat</td>\n",
       "      <td>844700.0</td>\n",
       "    </tr>\n",
       "    <tr>\n",
       "      <th>ANAND</th>\n",
       "      <td>other oilseeds</td>\n",
       "      <td>775100.0</td>\n",
       "    </tr>\n",
       "    <tr>\n",
       "      <th>AHMADABAD</th>\n",
       "      <td>other oilseeds</td>\n",
       "      <td>592000.0</td>\n",
       "    </tr>\n",
       "    <tr>\n",
       "      <th>GANDHINAGAR</th>\n",
       "      <td>Wheat</td>\n",
       "      <td>579800.0</td>\n",
       "    </tr>\n",
       "    <tr>\n",
       "      <th>KHEDA</th>\n",
       "      <td>other oilseeds</td>\n",
       "      <td>563500.0</td>\n",
       "    </tr>\n",
       "    <tr>\n",
       "      <th>SABAR KANTHA</th>\n",
       "      <td>Wheat</td>\n",
       "      <td>489500.0</td>\n",
       "    </tr>\n",
       "    <tr>\n",
       "      <th>PANCH MAHALS</th>\n",
       "      <td>other oilseeds</td>\n",
       "      <td>422100.0</td>\n",
       "    </tr>\n",
       "    <tr>\n",
       "      <th>KACHCHH</th>\n",
       "      <td>other oilseeds</td>\n",
       "      <td>392200.0</td>\n",
       "    </tr>\n",
       "    <tr>\n",
       "      <th>MAHESANA</th>\n",
       "      <td>other oilseeds</td>\n",
       "      <td>350300.0</td>\n",
       "    </tr>\n",
       "    <tr>\n",
       "      <th>PORBANDAR</th>\n",
       "      <td>other oilseeds</td>\n",
       "      <td>239300.0</td>\n",
       "    </tr>\n",
       "    <tr>\n",
       "      <th>PATAN</th>\n",
       "      <td>other oilseeds</td>\n",
       "      <td>231300.0</td>\n",
       "    </tr>\n",
       "    <tr>\n",
       "      <th>DOHAD</th>\n",
       "      <td>other oilseeds</td>\n",
       "      <td>224500.0</td>\n",
       "    </tr>\n",
       "    <tr>\n",
       "      <th>DANG</th>\n",
       "      <td>other oilseeds</td>\n",
       "      <td>30700.0</td>\n",
       "    </tr>\n",
       "  </tbody>\n",
       "</table>\n",
       "</div>"
      ],
      "text/plain": [
       "                         Crop  Production\n",
       "District_Name                            \n",
       "SURAT          other oilseeds  11754000.0\n",
       "VALSAD         other oilseeds   2733000.0\n",
       "NAVSARI        other oilseeds   2238000.0\n",
       "BHARUCH        other oilseeds   2015000.0\n",
       "RAJKOT         other oilseeds   1823100.0\n",
       "SURENDRANAGAR  other oilseeds   1714900.0\n",
       "JUNAGADH       other oilseeds   1525000.0\n",
       "BHAVNAGAR      other oilseeds   1469300.0\n",
       "TAPI           other oilseeds   1420000.0\n",
       "AMRELI         other oilseeds   1142600.0\n",
       "JAMNAGAR       other oilseeds   1076500.0\n",
       "BANAS KANTHA   other oilseeds   1021700.0\n",
       "NARMADA        other oilseeds    899000.0\n",
       "VADODARA                Wheat    844700.0\n",
       "ANAND          other oilseeds    775100.0\n",
       "AHMADABAD      other oilseeds    592000.0\n",
       "GANDHINAGAR             Wheat    579800.0\n",
       "KHEDA          other oilseeds    563500.0\n",
       "SABAR KANTHA            Wheat    489500.0\n",
       "PANCH MAHALS   other oilseeds    422100.0\n",
       "KACHCHH        other oilseeds    392200.0\n",
       "MAHESANA       other oilseeds    350300.0\n",
       "PORBANDAR      other oilseeds    239300.0\n",
       "PATAN          other oilseeds    231300.0\n",
       "DOHAD          other oilseeds    224500.0\n",
       "DANG           other oilseeds     30700.0"
      ]
     },
     "execution_count": 35,
     "metadata": {},
     "output_type": "execute_result"
    }
   ],
   "source": [
    "state = data[data.State_Name == 'Gujarat']\n",
    "state.groupby('District_Name')['Crop','Production'].max().sort_values(by = 'Production',ascending = False)"
   ]
  },
  {
   "cell_type": "markdown",
   "id": "e0a1e8db",
   "metadata": {},
   "source": [
    "Conclusion: From above it is clear that Surat has maximum production and Dang has minimum production in Gujarat."
   ]
  },
  {
   "cell_type": "markdown",
   "id": "bcc4fd1c",
   "metadata": {},
   "source": [
    "# 2)  Crops count in Each Season:"
   ]
  },
  {
   "cell_type": "code",
   "execution_count": 39,
   "id": "713ce39c",
   "metadata": {
    "scrolled": false
   },
   "outputs": [
    {
     "data": {
      "text/plain": [
       "Season       Crop                   \n",
       "Kharif       Moong(Green Gram)          350\n",
       "             Urad                       348\n",
       "             Groundnut                  347\n",
       "             Arhar/Tur                  341\n",
       "             Castor seed                311\n",
       "             Cotton(lint)               310\n",
       "             Bajra                      306\n",
       "             Sesamum                    301\n",
       "             Other Kharif pulses        283\n",
       "             Jowar                      280\n",
       "             Maize                      252\n",
       "             Moth                       240\n",
       "             Rice                       230\n",
       "             Other Cereals & Millets    127\n",
       "             Small millets               62\n",
       "             Ragi                        58\n",
       "             Tobacco                     35\n",
       "             Soyabean                    25\n",
       "             other oilseeds              23\n",
       "             Dry chillies                18\n",
       "             Pulses total                 1\n",
       "Rabi         Wheat                      366\n",
       "             Gram                       353\n",
       "             Rapeseed &Mustard          297\n",
       "             Jowar                      196\n",
       "             Other  Rabi pulses         153\n",
       "             Other Cereals & Millets    110\n",
       "             Onion                       81\n",
       "             Tobacco                     30\n",
       "             Maize                       29\n",
       "             Small millets               29\n",
       "Summer       Groundnut                  338\n",
       "             Bajra                      293\n",
       "             Rice                        99\n",
       "             Moong(Green Gram)           73\n",
       "             Sesamum                     33\n",
       "             Maize                       21\n",
       "             Urad                        20\n",
       "             Onion                       11\n",
       "Whole Year   Dry chillies               276\n",
       "             Sugarcane                  228\n",
       "             Garlic                     224\n",
       "             Onion                      214\n",
       "             Potato                     167\n",
       "             Banana                     157\n",
       "             Guar seed                  155\n",
       "             Tobacco                     80\n",
       "             Pulses total                37\n",
       "             Oilseeds total              19\n",
       "             Cotton(lint)                17\n",
       "             Sesamum                     17\n",
       "             other oilseeds              17\n",
       "             Castor seed                 16\n",
       "             Maize                       15\n",
       "             Rice                        14\n",
       "             Ragi                         3\n",
       "Name: Crop, dtype: int64"
      ]
     },
     "execution_count": 39,
     "metadata": {},
     "output_type": "execute_result"
    }
   ],
   "source": [
    "state.groupby('Season')['Crop'].value_counts()"
   ]
  },
  {
   "cell_type": "code",
   "execution_count": 48,
   "id": "6b52c1b5",
   "metadata": {},
   "outputs": [],
   "source": [
    "production = data.groupby(by = 'Crop_Year')['Production'].sum()\n",
    "year = data.Crop_Year.unique()\n",
    "state = data.State_Name.unique()"
   ]
  },
  {
   "cell_type": "code",
   "execution_count": 7,
   "id": "57db90c0",
   "metadata": {},
   "outputs": [
    {
     "name": "stderr",
     "output_type": "stream",
     "text": [
      "C:\\Users\\KRINA\\anaconda3\\lib\\site-packages\\seaborn\\_decorators.py:36: FutureWarning: Pass the following variables as keyword args: x, y. From version 0.12, the only valid positional argument will be `data`, and passing other arguments without an explicit keyword will result in an error or misinterpretation.\n",
      "  warnings.warn(\n"
     ]
    },
    {
     "data": {
      "text/plain": [
       "<AxesSubplot:xlabel='Crop_Year', ylabel='Production'>"
      ]
     },
     "execution_count": 7,
     "metadata": {},
     "output_type": "execute_result"
    },
    {
     "data": {
      "image/png": "[encoded data removed]",
      "text/plain": [
       "<Figure size 576x360 with 1 Axes>"
      ]
     },
     "metadata": {
      "needs_background": "light"
     },
     "output_type": "display_data"
    }
   ],
   "source": [
    "plt.figure(figsize=(8,5))\n",
    "sns.lineplot(data[\"Crop_Year\"],data[\"Production\"])"
   ]
  },
  {
   "cell_type": "markdown",
   "id": "7c0ec14d",
   "metadata": {},
   "source": [
    "    Above graph shows the production over the years"
   ]
  },
  {
   "cell_type": "markdown",
   "id": "46ee3425",
   "metadata": {},
   "source": [
    "# Graph to show Production and Area  Statewise"
   ]
  },
  {
   "cell_type": "markdown",
   "id": "2c6460e7",
   "metadata": {},
   "source": [
    "Production of each State:"
   ]
  },
  {
   "cell_type": "code",
   "execution_count": 50,
   "id": "eee4a20d",
   "metadata": {},
   "outputs": [
    {
     "data": {
      "text/plain": [
       "Text(0.5, 1.0, 'Production in Each State')"
      ]
     },
     "execution_count": 50,
     "metadata": {},
     "output_type": "execute_result"
    },
    {
     "data": {
      "image/png": "[encoded data removed]",
      "text/plain": [
       "<Figure size 1440x720 with 1 Axes>"
      ]
     },
     "metadata": {
      "needs_background": "light"
     },
     "output_type": "display_data"
    }
   ],
   "source": [
    "state = data.groupby(by = 'State_Name')['Production'].sum().reset_index()\n",
    "plt.figure(figsize=(20,10))\n",
    "plt.bar(state.State_Name,state.Production,width = 0.8,\n",
    "       color= ['hotpink','purple','yellow','Lightblue','orange'])\n",
    "plt.xticks(rotation=90)\n",
    "plt.yscale('log')\n",
    "plt.title(\"Production in Each State\")"
   ]
  },
  {
   "cell_type": "markdown",
   "id": "1e892c01",
   "metadata": {},
   "source": [
    "Production of each State:"
   ]
  },
  {
   "cell_type": "code",
   "execution_count": 51,
   "id": "0b3ad94a",
   "metadata": {},
   "outputs": [
    {
     "data": {
      "text/plain": [
       "Text(0.5, 1.0, 'Area of Each State')"
      ]
     },
     "execution_count": 51,
     "metadata": {},
     "output_type": "execute_result"
    },
    {
     "data": {
      "image/png": "[encoded data removed]",
      "text/plain": [
       "<Figure size 1440x720 with 1 Axes>"
      ]
     },
     "metadata": {
      "needs_background": "light"
     },
     "output_type": "display_data"
    }
   ],
   "source": [
    "area = data.groupby(by = 'State_Name')['Area'].sum().reset_index()\n",
    "\n",
    "plt.figure(figsize=(20,10))\n",
    "plt.bar(area.State_Name, area.Area,width = 0.8,\n",
    "       color= ['purple','yellow','hotpink','orange','Lightblue',])\n",
    "plt.xticks(rotation=90)\n",
    "plt.yscale('log')\n",
    "plt.title(\"Production in Each State\")\n",
    "plt.title('Area of Each State')"
   ]
  },
  {
   "cell_type": "markdown",
   "id": "19dc9911",
   "metadata": {},
   "source": [
    "    Conclusion: From the above graphs it is clear that:\n",
    "    - Kerala has the maximum production of crops.\n",
    "    - Uttarakhand that the maximum area for crops.\n",
    "    - Chandigarh has both minimum productionas well as area for crops."
   ]
  },
  {
   "cell_type": "markdown",
   "id": "58b8f392",
   "metadata": {},
   "source": [
    "# Overall Crops Production of top 20 Crops"
   ]
  },
  {
   "cell_type": "code",
   "execution_count": 9,
   "id": "0b5a2c4b",
   "metadata": {
    "scrolled": false
   },
   "outputs": [
    {
     "name": "stderr",
     "output_type": "stream",
     "text": [
      "C:\\Users\\KRINA\\anaconda3\\lib\\site-packages\\seaborn\\_decorators.py:36: FutureWarning: Pass the following variables as keyword args: x, y. From version 0.12, the only valid positional argument will be `data`, and passing other arguments without an explicit keyword will result in an error or misinterpretation.\n",
      "  warnings.warn(\n"
     ]
    },
    {
     "data": {
      "text/plain": [
       "Text(0.5, 1.0, 'Overall Crops vs Production')"
      ]
     },
     "execution_count": 9,
     "metadata": {},
     "output_type": "execute_result"
    },
    {
     "data": {
      "image/png": "[encoded data removed]",
      "text/plain": [
       "<Figure size 720x360 with 1 Axes>"
      ]
     },
     "metadata": {
      "needs_background": "light"
     },
     "output_type": "display_data"
    }
   ],
   "source": [
    "crop = data.groupby(by='Crop')['Production'].sum().reset_index().sort_values(by='Production', ascending=False).head(20)\n",
    "crop \n",
    "fig, ax = plt.subplots(figsize=(10,5))\n",
    "sns.barplot(crop.Crop, crop.Production,errwidth=0)\n",
    "plt.xticks(rotation=90)\n",
    "plt.yscale('log')\n",
    "plt.title('Overall Crops vs Production')"
   ]
  },
  {
   "cell_type": "markdown",
   "id": "cd05d393",
   "metadata": {},
   "source": [
    "# Zone wise  Analysis:"
   ]
  },
  {
   "cell_type": "markdown",
   "id": "0b22dbe8",
   "metadata": {},
   "source": [
    "North India :- 'Jammu and Kashmir', 'Punjab', 'Himachal Pradesh', 'Haryana', 'Uttarakhand', 'Uttar Pradesh', 'Chandigarh'\n",
    "\n",
    "East India : 'Bihar', 'Odisha', 'Jharkhand', 'West Bengal'\n",
    "\n",
    "South India : 'Andhra Pradesh', 'Karnataka', 'Kerala' ,'Tamil Nadu', 'Telangana'\n",
    "\n",
    "West India : 'Rajasthan' , 'Gujarat', 'Goa','Maharashtra','Goa'\n",
    "\n",
    "Central India : 'Madhya Pradesh', 'Chhattisgarh'\n",
    "\n",
    "North_east_india  : 'Assam', 'Sikkim', 'Nagaland', 'Meghalaya', 'Manipur', 'Mizoram', 'Tripura', 'Arunachal Pradesh'\n",
    "\n",
    "Union Teritory : 'Andaman and Nicobar Islands', 'Dadra and Nagar Haveli', 'Puducherry'"
   ]
  },
  {
   "cell_type": "code",
   "execution_count": 53,
   "id": "6232dd72",
   "metadata": {},
   "outputs": [],
   "source": [
    "north_india = ['Jammu and Kashmir', 'Punjab', 'Himachal Pradesh', 'Haryana', 'Uttarakhand', 'Uttar Pradesh', 'Chandigarh']\n",
    "east_india = ['Bihar', 'Odisha', 'Jharkhand', 'West Bengal']\n",
    "south_india = ['Andhra Pradesh', 'Karnataka', 'Kerala' ,'Tamil Nadu', 'Telangana']\n",
    "west_india = ['Rajasthan' , 'Gujarat', 'Goa','Maharashtra','Goa']\n",
    "central_india = ['Madhya Pradesh', 'Chhattisgarh']\n",
    "north_east_india = ['Assam', 'Sikkim', 'Nagaland', 'Meghalaya', 'Manipur', 'Mizoram', 'Tripura', 'Arunachal Pradesh']\n",
    "ut_india = ['Andaman and Nicobar Islands', 'Dadra and Nagar Haveli', 'Puducherry']"
   ]
  },
  {
   "cell_type": "code",
   "execution_count": 54,
   "id": "04a0621f",
   "metadata": {},
   "outputs": [
    {
     "data": {
      "text/plain": [
       "array(['Union Terr', 'South Zone', 'NE Zone', 'East Zone', 'North Zone',\n",
       "       'Central Zone', 'West Zone'], dtype=object)"
      ]
     },
     "execution_count": 54,
     "metadata": {},
     "output_type": "execute_result"
    }
   ],
   "source": [
    "def get_zonal_names(row):\n",
    "    if row['State_Name'].strip() in north_india:\n",
    "        val = 'North Zone'\n",
    "    elif row['State_Name'].strip()  in south_india:\n",
    "        val = 'South Zone'\n",
    "    elif row['State_Name'].strip()  in east_india:\n",
    "        val = 'East Zone'\n",
    "    elif row['State_Name'].strip()  in west_india:\n",
    "        val = 'West Zone'\n",
    "    elif row['State_Name'].strip()  in central_india:\n",
    "        val = 'Central Zone'\n",
    "    elif row['State_Name'].strip()  in north_east_india:\n",
    "        val = 'NE Zone'\n",
    "    elif row['State_Name'].strip()  in ut_india:\n",
    "        val = 'Union Terr'\n",
    "    else:\n",
    "        val = 'No Value'\n",
    "    return val\n",
    "\n",
    "data['Zones'] = data.apply(get_zonal_names, axis=1)\n",
    "data['Zones'].unique()"
   ]
  },
  {
   "cell_type": "code",
   "execution_count": 55,
   "id": "b236fcd5",
   "metadata": {
    "scrolled": true
   },
   "outputs": [
    {
     "name": "stderr",
     "output_type": "stream",
     "text": [
      "C:\\Users\\KRINA\\anaconda3\\lib\\site-packages\\seaborn\\_decorators.py:36: FutureWarning: Pass the following variables as keyword args: x, y. From version 0.12, the only valid positional argument will be `data`, and passing other arguments without an explicit keyword will result in an error or misinterpretation.\n",
      "  warnings.warn(\n",
      "C:\\Users\\KRINA\\anaconda3\\lib\\site-packages\\seaborn\\_decorators.py:36: FutureWarning: Pass the following variables as keyword args: x, y. From version 0.12, the only valid positional argument will be `data`, and passing other arguments without an explicit keyword will result in an error or misinterpretation.\n",
      "  warnings.warn(\n"
     ]
    },
    {
     "data": {
      "text/plain": [
       "Text(0.5, 1.0, 'Zone vs Area')"
      ]
     },
     "execution_count": 55,
     "metadata": {},
     "output_type": "execute_result"
    },
    {
     "data": {
      "image/png": "[encoded data removed]",
      "text/plain": [
       "<Figure size 720x360 with 2 Axes>"
      ]
     },
     "metadata": {
      "needs_background": "light"
     },
     "output_type": "display_data"
    }
   ],
   "source": [
    "fig, ax = plt.subplots(figsize=(10,5))\n",
    "\n",
    "hf = data.groupby('Zones')['Production'].sum().reset_index().sort_values(by='Production', ascending=False)\n",
    "plt.subplot(1,2,1)\n",
    "sns.barplot(hf.Zones, hf.Production,errwidth = 1)\n",
    "plt.yscale('log')\n",
    "plt.xticks(rotation = 60)\n",
    "plt.title('Zone vs Production')\n",
    "\n",
    "df = data.groupby('Zones')['Area'].sum().reset_index().sort_values(by='Area', ascending=False)\n",
    "plt.subplot(1,2,2)\n",
    "sns.barplot(df.Zones, df.Area,errwidth = 1)\n",
    "plt.yscale('log')\n",
    "plt.xticks(rotation = 60)\n",
    "plt.title('Zone vs Area')"
   ]
  },
  {
   "cell_type": "markdown",
   "id": "fc9edfc0",
   "metadata": {},
   "source": [
    "    Conclusion: South Zone has the maximum and Central Zone has the minimum production of crops.\n",
    "            \n",
    "                West Zone has the most area and Union Territory has least area for growing crops.\n",
    "             "
   ]
  },
  {
   "cell_type": "code",
   "execution_count": 56,
   "id": "87e36067",
   "metadata": {},
   "outputs": [],
   "source": [
    "north_zone =  data[(data[\"Zones\"] == 'North Zone')]\n",
    "west_zone =  data[(data[\"Zones\"] == 'West Zone')]\n",
    "south_zone =  data[(data[\"Zones\"] == 'South Zone')]\n",
    "east_zone =  data[(data[\"Zones\"] == 'East Zone')]\n",
    "ne_zone = data[(data[\"Zones\"] == 'NE Zone')]"
   ]
  },
  {
   "cell_type": "code",
   "execution_count": 57,
   "id": "0c3857af",
   "metadata": {},
   "outputs": [
    {
     "name": "stderr",
     "output_type": "stream",
     "text": [
      "C:\\Users\\KRINA\\anaconda3\\lib\\site-packages\\seaborn\\_decorators.py:36: FutureWarning: Pass the following variables as keyword args: x, y. From version 0.12, the only valid positional argument will be `data`, and passing other arguments without an explicit keyword will result in an error or misinterpretation.\n",
      "  warnings.warn(\n",
      "C:\\Users\\KRINA\\anaconda3\\lib\\site-packages\\seaborn\\_decorators.py:36: FutureWarning: Pass the following variables as keyword args: x, y. From version 0.12, the only valid positional argument will be `data`, and passing other arguments without an explicit keyword will result in an error or misinterpretation.\n",
      "  warnings.warn(\n",
      "C:\\Users\\KRINA\\anaconda3\\lib\\site-packages\\seaborn\\_decorators.py:36: FutureWarning: Pass the following variables as keyword args: x, y. From version 0.12, the only valid positional argument will be `data`, and passing other arguments without an explicit keyword will result in an error or misinterpretation.\n",
      "  warnings.warn(\n",
      "C:\\Users\\KRINA\\anaconda3\\lib\\site-packages\\seaborn\\_decorators.py:36: FutureWarning: Pass the following variables as keyword args: x, y. From version 0.12, the only valid positional argument will be `data`, and passing other arguments without an explicit keyword will result in an error or misinterpretation.\n",
      "  warnings.warn(\n",
      "C:\\Users\\KRINA\\anaconda3\\lib\\site-packages\\seaborn\\_decorators.py:36: FutureWarning: Pass the following variables as keyword args: x, y. From version 0.12, the only valid positional argument will be `data`, and passing other arguments without an explicit keyword will result in an error or misinterpretation.\n",
      "  warnings.warn(\n"
     ]
    },
    {
     "data": {
      "text/plain": [
       "Text(0.5, 1.0, 'NE Zone Crops vs Production')"
      ]
     },
     "execution_count": 57,
     "metadata": {},
     "output_type": "execute_result"
    },
    {
     "data": {
      "image/png": "[encoded data removed]",
      "text/plain": [
       "<Figure size 1440x2160 with 5 Axes>"
      ]
     },
     "metadata": {
      "needs_background": "light"
     },
     "output_type": "display_data"
    }
   ],
   "source": [
    "fig, ax = plt.subplots(figsize=(20,30))\n",
    "\n",
    "nf = north_zone.groupby(by='Crop')['Production'].sum().reset_index().sort_values(by='Production', ascending=False).head(10)\n",
    "plt.subplot(3,2,1)\n",
    "sns.barplot(nf.Crop, nf.Production)\n",
    "plt.yscale('log')\n",
    "plt.xticks(rotation = 60)\n",
    "plt.title('North Zone Crops vs Production')\n",
    "\n",
    "\n",
    "sf = south_zone.groupby(by='Crop')['Production'].sum().reset_index().sort_values(by='Production', ascending=False).head(10)\n",
    "plt.subplot(3,2,2)\n",
    "sns.barplot(sf.Crop, sf.Production)\n",
    "plt.yscale('log')\n",
    "plt.xticks(rotation = 60)\n",
    "plt.title('South Zone Crops vs Production')\n",
    "\n",
    "\n",
    "ef = east_zone.groupby(by='Crop')['Production'].sum().reset_index().sort_values(by='Production', ascending=False).head(10)\n",
    "plt.subplot(3,2,3)\n",
    "sns.barplot(ef.Crop, ef.Production,errwidth=0)\n",
    "plt.yscale('log')\n",
    "plt.xticks(rotation = 60)\n",
    "plt.title('East Zone Crops vs Production')\n",
    "\n",
    "\n",
    "wf = west_zone.groupby(by='Crop')['Production'].sum().reset_index().sort_values(by='Production', ascending=False).head(10)\n",
    "plt.subplot(3,2,4)\n",
    "sns.barplot(wf.Crop, wf.Production)\n",
    "plt.yscale('log')\n",
    "plt.xticks(rotation = 60)\n",
    "plt.title('West Zone Crops vs Production')\n",
    "\n",
    "\n",
    "nef = ne_zone.groupby(by='Crop')['Production'].sum().reset_index().sort_values(by='Production', ascending=False).head(10)\n",
    "plt.subplot(3,2,5)\n",
    "sns.barplot(nef.Crop, nef.Production)\n",
    "plt.yscale('log')\n",
    "plt.xticks(rotation = 60)\n",
    "plt.title('NE Zone Crops vs Production')"
   ]
  },
  {
   "cell_type": "markdown",
   "id": "ab984038",
   "metadata": {},
   "source": [
    "    Conclusion : From above graphs it is clear that \n",
    "\n",
    "    Zone          Max.Produced crop\n",
    "    North          sugarcane\n",
    "    South           coconut          \n",
    "    East            coconut\n",
    "    West           sugarcane\n",
    "    NE              coconut"
   ]
  }
 ],
 "metadata": {
  "kernelspec": {
   "display_name": "Python 3",
   "language": "python",
   "name": "python3"
  },
  "language_info": {
   "codemirror_mode": {
    "name": "ipython",
    "version": 3
   },
   "file_extension": ".py",
   "mimetype": "text/x-python",
   "name": "python",
   "nbconvert_exporter": "python",
   "pygments_lexer": "ipython3",
   "version": "3.8.8"
  }
 },
 "nbformat": 4,
 "nbformat_minor": 5
}
